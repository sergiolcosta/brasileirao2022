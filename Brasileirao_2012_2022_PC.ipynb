{
 "cells": [
  {
   "cell_type": "code",
   "execution_count": null,
   "id": "034cd2ed",
   "metadata": {},
   "outputs": [],
   "source": [
    "# Dados baixados do Kaggle\n",
    "# https://www.kaggle.com/datasets/ricardomattos05/jogos-do-campeonato-brasileiro?resource=download"
   ]
  },
  {
   "cell_type": "code",
   "execution_count": null,
   "id": "87211a14",
   "metadata": {},
   "outputs": [],
   "source": [
    "#!pip install pandas as pd\n",
    "#!pip install -U scikit-learn"
   ]
  },
  {
   "cell_type": "code",
   "execution_count": 53,
   "id": "a695ac7f",
   "metadata": {},
   "outputs": [],
   "source": [
    "import pandas as pd\n",
    "from sklearn.linear_model import LogisticRegression\n",
    "from sklearn.model_selection import train_test_split\n",
    "from sklearn.metrics import accuracy_score\n",
    "from sklearn import svm\n",
    "from sklearn.preprocessing import StandardScaler\n",
    "from sklearn.neighbors import KNeighborsClassifier\n",
    "from sklearn.tree import DecisionTreeClassifier\n",
    "from sklearn.metrics import accuracy_score\n",
    "from sklearn.ensemble import RandomForestClassifier\n"
   ]
  },
  {
   "cell_type": "code",
   "execution_count": 54,
   "id": "4af2910c",
   "metadata": {},
   "outputs": [],
   "source": [
    "df = pd.read_excel(\"Book3.xlsx\")"
   ]
  },
  {
   "cell_type": "code",
   "execution_count": 55,
   "id": "99ce2a4c",
   "metadata": {},
   "outputs": [
    {
     "data": {
      "text/html": [
       "<div>\n",
       "<style scoped>\n",
       "    .dataframe tbody tr th:only-of-type {\n",
       "        vertical-align: middle;\n",
       "    }\n",
       "\n",
       "    .dataframe tbody tr th {\n",
       "        vertical-align: top;\n",
       "    }\n",
       "\n",
       "    .dataframe thead th {\n",
       "        text-align: right;\n",
       "    }\n",
       "</style>\n",
       "<table border=\"1\" class=\"dataframe\">\n",
       "  <thead>\n",
       "    <tr style=\"text-align: right;\">\n",
       "      <th></th>\n",
       "      <th>datetime</th>\n",
       "      <th>home_team</th>\n",
       "      <th>home_team_state</th>\n",
       "      <th>away_team</th>\n",
       "      <th>away_team_state</th>\n",
       "      <th>home_goal</th>\n",
       "      <th>away_goal</th>\n",
       "      <th>season</th>\n",
       "      <th>round</th>\n",
       "    </tr>\n",
       "  </thead>\n",
       "  <tbody>\n",
       "    <tr>\n",
       "      <th>0</th>\n",
       "      <td>2012-05-19 18:30:00</td>\n",
       "      <td>Palmeiras-SP</td>\n",
       "      <td>SP</td>\n",
       "      <td>Portuguesa-SP</td>\n",
       "      <td>SP</td>\n",
       "      <td>1</td>\n",
       "      <td>1</td>\n",
       "      <td>2012</td>\n",
       "      <td>1</td>\n",
       "    </tr>\n",
       "  </tbody>\n",
       "</table>\n",
       "</div>"
      ],
      "text/plain": [
       "             datetime     home_team home_team_state      away_team  \\\n",
       "0 2012-05-19 18:30:00  Palmeiras-SP              SP  Portuguesa-SP   \n",
       "\n",
       "  away_team_state  home_goal  away_goal  season  round  \n",
       "0              SP          1          1    2012      1  "
      ]
     },
     "execution_count": 55,
     "metadata": {},
     "output_type": "execute_result"
    }
   ],
   "source": [
    "df.head(1)"
   ]
  },
  {
   "cell_type": "code",
   "execution_count": 56,
   "id": "363cdcb8",
   "metadata": {},
   "outputs": [],
   "source": [
    "# definir a função que será aplicada em cada linha\n",
    "def calcular_resultado(row):\n",
    "    if row['home_goal'] > row['away_goal']:\n",
    "        return 'Casa'\n",
    "    elif row['home_goal'] < row['away_goal']:\n",
    "        return 'Visitante'\n",
    "    else:\n",
    "        return 'Empate'\n",
    "\n",
    "# aplicar a função em cada linha e salvar o resultado na nova coluna\n",
    "df['Resultado'] = df.apply(calcular_resultado, axis=1)\n"
   ]
  },
  {
   "cell_type": "code",
   "execution_count": 57,
   "id": "7a7cbe45",
   "metadata": {},
   "outputs": [
    {
     "data": {
      "text/html": [
       "<div>\n",
       "<style scoped>\n",
       "    .dataframe tbody tr th:only-of-type {\n",
       "        vertical-align: middle;\n",
       "    }\n",
       "\n",
       "    .dataframe tbody tr th {\n",
       "        vertical-align: top;\n",
       "    }\n",
       "\n",
       "    .dataframe thead th {\n",
       "        text-align: right;\n",
       "    }\n",
       "</style>\n",
       "<table border=\"1\" class=\"dataframe\">\n",
       "  <thead>\n",
       "    <tr style=\"text-align: right;\">\n",
       "      <th></th>\n",
       "      <th>datetime</th>\n",
       "      <th>home_team</th>\n",
       "      <th>home_team_state</th>\n",
       "      <th>away_team</th>\n",
       "      <th>away_team_state</th>\n",
       "      <th>home_goal</th>\n",
       "      <th>away_goal</th>\n",
       "      <th>season</th>\n",
       "      <th>round</th>\n",
       "      <th>Resultado</th>\n",
       "    </tr>\n",
       "  </thead>\n",
       "  <tbody>\n",
       "    <tr>\n",
       "      <th>0</th>\n",
       "      <td>2012-05-19 18:30:00</td>\n",
       "      <td>Palmeiras-SP</td>\n",
       "      <td>SP</td>\n",
       "      <td>Portuguesa-SP</td>\n",
       "      <td>SP</td>\n",
       "      <td>1</td>\n",
       "      <td>1</td>\n",
       "      <td>2012</td>\n",
       "      <td>1</td>\n",
       "      <td>Empate</td>\n",
       "    </tr>\n",
       "  </tbody>\n",
       "</table>\n",
       "</div>"
      ],
      "text/plain": [
       "             datetime     home_team home_team_state      away_team  \\\n",
       "0 2012-05-19 18:30:00  Palmeiras-SP              SP  Portuguesa-SP   \n",
       "\n",
       "  away_team_state  home_goal  away_goal  season  round Resultado  \n",
       "0              SP          1          1    2012      1    Empate  "
      ]
     },
     "execution_count": 57,
     "metadata": {},
     "output_type": "execute_result"
    }
   ],
   "source": [
    "df.head(1)"
   ]
  },
  {
   "cell_type": "code",
   "execution_count": 58,
   "id": "a0d7f2b6",
   "metadata": {},
   "outputs": [
    {
     "data": {
      "text/html": [
       "<div>\n",
       "<style scoped>\n",
       "    .dataframe tbody tr th:only-of-type {\n",
       "        vertical-align: middle;\n",
       "    }\n",
       "\n",
       "    .dataframe tbody tr th {\n",
       "        vertical-align: top;\n",
       "    }\n",
       "\n",
       "    .dataframe thead th {\n",
       "        text-align: right;\n",
       "    }\n",
       "</style>\n",
       "<table border=\"1\" class=\"dataframe\">\n",
       "  <thead>\n",
       "    <tr style=\"text-align: right;\">\n",
       "      <th></th>\n",
       "      <th>home_team</th>\n",
       "      <th>home_team_state</th>\n",
       "      <th>away_team</th>\n",
       "      <th>away_team_state</th>\n",
       "      <th>season</th>\n",
       "      <th>round</th>\n",
       "      <th>Resultado</th>\n",
       "    </tr>\n",
       "  </thead>\n",
       "  <tbody>\n",
       "    <tr>\n",
       "      <th>0</th>\n",
       "      <td>Palmeiras-SP</td>\n",
       "      <td>SP</td>\n",
       "      <td>Portuguesa-SP</td>\n",
       "      <td>SP</td>\n",
       "      <td>2012</td>\n",
       "      <td>1</td>\n",
       "      <td>Empate</td>\n",
       "    </tr>\n",
       "  </tbody>\n",
       "</table>\n",
       "</div>"
      ],
      "text/plain": [
       "      home_team home_team_state      away_team away_team_state  season  round  \\\n",
       "0  Palmeiras-SP              SP  Portuguesa-SP              SP    2012      1   \n",
       "\n",
       "  Resultado  \n",
       "0    Empate  "
      ]
     },
     "execution_count": 58,
     "metadata": {},
     "output_type": "execute_result"
    }
   ],
   "source": [
    "df = df.drop(['home_goal', 'away_goal', 'datetime'], axis=1)\n",
    "df.head(1)"
   ]
  },
  {
   "cell_type": "code",
   "execution_count": 59,
   "id": "be24ad4f",
   "metadata": {},
   "outputs": [
    {
     "name": "stdout",
     "output_type": "stream",
     "text": [
      "36\n",
      "['Palmeiras-SP' 'Sport-PE' 'Figueirense-SC' 'Ponte Preta-SP'\n",
      " 'Corinthians-SP' 'Botafogo-RJ' 'Internacional-RS' 'Vasco da Gama-RJ'\n",
      " 'Bahia-BA' 'Cruzeiro-MG' 'Atletico-GO' 'Flamengo-RJ' 'Portuguesa-SP'\n",
      " 'Nautico-PE' 'Santos-SP' 'Atletico-MG' 'Coritiba-PR' 'Sao Paulo-SP'\n",
      " 'Gremio-RS' 'Fluminense-RJ' 'Vitoria-BA' 'Criciuma-SC' 'Atletico-PR'\n",
      " 'Goias-GO' 'Chapecoense-SC' 'Avai-SC' 'Joinville-SC' 'Santa Cruz-PE'\n",
      " 'America-MG' 'Parana-PR' 'Ceara-CE' 'Csa-AL' 'Fortaleza-CE'\n",
      " 'Red Bull Bragantino-SP' 'Cuiaba-MT' 'Juventude-RS']\n",
      "12\n",
      "['SP' 'PE' 'SC' 'RJ' 'RS' 'BA' 'MG' 'GO' 'PR' 'CE' 'AL' 'MT']\n"
     ]
    }
   ],
   "source": [
    "# Quantidade de valores únicos na coluna 'home_team'\n",
    "print(df['home_team'].nunique())\n",
    "\n",
    "# Valores únicos da coluna \"home_team\"\n",
    "print(df[\"home_team\"].unique())\n",
    "\n",
    "print(df['home_team_state'].nunique())\n",
    "\n",
    "# Valores únicos da coluna \"home_team\"\n",
    "print(df[\"home_team_state\"].unique())\n"
   ]
  },
  {
   "cell_type": "code",
   "execution_count": 60,
   "id": "e6ad9c0e",
   "metadata": {},
   "outputs": [
    {
     "name": "stdout",
     "output_type": "stream",
     "text": [
      "Número de valores únicos em home_team: 36\n",
      "Número de valores únicos em away_team: 36\n"
     ]
    },
    {
     "data": {
      "text/html": [
       "<div>\n",
       "<style scoped>\n",
       "    .dataframe tbody tr th:only-of-type {\n",
       "        vertical-align: middle;\n",
       "    }\n",
       "\n",
       "    .dataframe tbody tr th {\n",
       "        vertical-align: top;\n",
       "    }\n",
       "\n",
       "    .dataframe thead th {\n",
       "        text-align: right;\n",
       "    }\n",
       "</style>\n",
       "<table border=\"1\" class=\"dataframe\">\n",
       "  <thead>\n",
       "    <tr style=\"text-align: right;\">\n",
       "      <th></th>\n",
       "      <th>home_team</th>\n",
       "      <th>home_team_state</th>\n",
       "      <th>away_team</th>\n",
       "      <th>away_team_state</th>\n",
       "      <th>season</th>\n",
       "      <th>round</th>\n",
       "      <th>Resultado</th>\n",
       "    </tr>\n",
       "  </thead>\n",
       "  <tbody>\n",
       "    <tr>\n",
       "      <th>0</th>\n",
       "      <td>1</td>\n",
       "      <td>1</td>\n",
       "      <td>13</td>\n",
       "      <td>1</td>\n",
       "      <td>2012</td>\n",
       "      <td>1</td>\n",
       "      <td>Empate</td>\n",
       "    </tr>\n",
       "  </tbody>\n",
       "</table>\n",
       "</div>"
      ],
      "text/plain": [
       "   home_team  home_team_state  away_team  away_team_state  season  round  \\\n",
       "0          1                1         13                1    2012      1   \n",
       "\n",
       "  Resultado  \n",
       "0    Empate  "
      ]
     },
     "execution_count": 60,
     "metadata": {},
     "output_type": "execute_result"
    }
   ],
   "source": [
    "# criar um novo DataFrame com as mesmas colunas\n",
    "df_new = df.copy()\n",
    "\n",
    "# definir um dicionário para mapear os valores para numéricos\n",
    "map_teams = {\n",
    "    'Palmeiras-SP': 1, 'Sport-PE': 2, 'Figueirense-SC': 3, 'Ponte Preta-SP': 4,\n",
    "    'Corinthians-SP': 5, 'Botafogo-RJ': 6, 'Internacional-RS': 7,\n",
    "    'Vasco da Gama-RJ': 8, 'Bahia-BA': 9, 'Cruzeiro-MG': 10, 'Atletico-GO': 11,\n",
    "    'Flamengo-RJ': 12, 'Portuguesa-SP': 13, 'Nautico-PE': 14, 'Santos-SP': 15,\n",
    "    'Atletico-MG': 16, 'Coritiba-PR': 17, 'Sao Paulo-SP': 18, 'Gremio-RS': 19,\n",
    "    'Fluminense-RJ': 20, 'Vitoria-BA': 21, 'Criciuma-SC': 22, 'Atletico-PR': 23,\n",
    "    'Goias-GO': 24, 'Chapecoense-SC': 25, 'Avai-SC': 26, 'Joinville-SC': 27,\n",
    "    'Santa Cruz-PE': 28, 'America-MG': 29, 'Parana-PR': 30, 'Ceara-CE': 31, 'Csa-AL': 32,\n",
    "    'Fortaleza-CE': 33, 'Red Bull Bragantino-SP': 34, 'Cuiaba-MT': 35, 'Juventude-RS': 36\n",
    "}\n",
    "\n",
    "map_states = {\n",
    "    'SP': 1, 'PE': 2, 'SC': 3, 'RJ': 4, 'RS': 5, 'BA': 6, 'MG': 7, 'GO': 8, 'PR': 9,\n",
    "    'CE': 10, 'AL': 11, 'MT': 12,\n",
    "}\n",
    "\n",
    "# mapear os valores para numéricos\n",
    "df_new['home_team'] = df_new['home_team'].map(map_teams)\n",
    "df_new['away_team'] = df_new['away_team'].map(map_teams)\n",
    "df_new['home_team_state'] = df_new['home_team_state'].map(map_states)\n",
    "df_new['away_team_state'] = df_new['away_team_state'].map(map_states)\n",
    "#df_new['home_goal'] = pd.to_numeric(df_new['home_goal'], errors='coerce')\n",
    "#df_new['away_goal'] = pd.to_numeric(df_new['away_goal'], errors='coerce')\n",
    "\n",
    "# exibir o número de valores únicos em cada coluna\n",
    "print('Número de valores únicos em home_team:', df_new['home_team'].nunique())\n",
    "print('Número de valores únicos em away_team:', df_new['away_team'].nunique())\n",
    "df_new.head(1)\n"
   ]
  },
  {
   "cell_type": "code",
   "execution_count": 61,
   "id": "5b5105c5",
   "metadata": {},
   "outputs": [
    {
     "data": {
      "text/html": [
       "<div>\n",
       "<style scoped>\n",
       "    .dataframe tbody tr th:only-of-type {\n",
       "        vertical-align: middle;\n",
       "    }\n",
       "\n",
       "    .dataframe tbody tr th {\n",
       "        vertical-align: top;\n",
       "    }\n",
       "\n",
       "    .dataframe thead th {\n",
       "        text-align: right;\n",
       "    }\n",
       "</style>\n",
       "<table border=\"1\" class=\"dataframe\">\n",
       "  <thead>\n",
       "    <tr style=\"text-align: right;\">\n",
       "      <th></th>\n",
       "      <th>home_team</th>\n",
       "      <th>home_team_state</th>\n",
       "      <th>away_team</th>\n",
       "      <th>away_team_state</th>\n",
       "      <th>season</th>\n",
       "      <th>round</th>\n",
       "      <th>Resultado</th>\n",
       "    </tr>\n",
       "  </thead>\n",
       "  <tbody>\n",
       "    <tr>\n",
       "      <th>0</th>\n",
       "      <td>1</td>\n",
       "      <td>1</td>\n",
       "      <td>13</td>\n",
       "      <td>1</td>\n",
       "      <td>2012</td>\n",
       "      <td>1</td>\n",
       "      <td>Empate</td>\n",
       "    </tr>\n",
       "  </tbody>\n",
       "</table>\n",
       "</div>"
      ],
      "text/plain": [
       "   home_team  home_team_state  away_team  away_team_state  season  round  \\\n",
       "0          1                1         13                1    2012      1   \n",
       "\n",
       "  Resultado  \n",
       "0    Empate  "
      ]
     },
     "execution_count": 61,
     "metadata": {},
     "output_type": "execute_result"
    }
   ],
   "source": [
    "df_new.head(1)"
   ]
  },
  {
   "cell_type": "code",
   "execution_count": 62,
   "id": "936c0904",
   "metadata": {},
   "outputs": [],
   "source": [
    "# Cria um novo dataframe com as colunas originais e converte a variável \"Resultado\"\n",
    "df_new['Resultado'] = df_new['Resultado'].replace({'Empate': 1, 'Casa': 2, 'Visitante': 3})"
   ]
  },
  {
   "cell_type": "code",
   "execution_count": 63,
   "id": "1e660df6",
   "metadata": {},
   "outputs": [
    {
     "data": {
      "text/html": [
       "<div>\n",
       "<style scoped>\n",
       "    .dataframe tbody tr th:only-of-type {\n",
       "        vertical-align: middle;\n",
       "    }\n",
       "\n",
       "    .dataframe tbody tr th {\n",
       "        vertical-align: top;\n",
       "    }\n",
       "\n",
       "    .dataframe thead th {\n",
       "        text-align: right;\n",
       "    }\n",
       "</style>\n",
       "<table border=\"1\" class=\"dataframe\">\n",
       "  <thead>\n",
       "    <tr style=\"text-align: right;\">\n",
       "      <th></th>\n",
       "      <th>home_team</th>\n",
       "      <th>home_team_state</th>\n",
       "      <th>away_team</th>\n",
       "      <th>away_team_state</th>\n",
       "      <th>season</th>\n",
       "      <th>round</th>\n",
       "      <th>Resultado</th>\n",
       "    </tr>\n",
       "  </thead>\n",
       "  <tbody>\n",
       "    <tr>\n",
       "      <th>0</th>\n",
       "      <td>1</td>\n",
       "      <td>1</td>\n",
       "      <td>13</td>\n",
       "      <td>1</td>\n",
       "      <td>2012</td>\n",
       "      <td>1</td>\n",
       "      <td>1</td>\n",
       "    </tr>\n",
       "  </tbody>\n",
       "</table>\n",
       "</div>"
      ],
      "text/plain": [
       "   home_team  home_team_state  away_team  away_team_state  season  round  \\\n",
       "0          1                1         13                1    2012      1   \n",
       "\n",
       "   Resultado  \n",
       "0          1  "
      ]
     },
     "execution_count": 63,
     "metadata": {},
     "output_type": "execute_result"
    }
   ],
   "source": [
    "df_new.head(1)"
   ]
  },
  {
   "cell_type": "code",
   "execution_count": 79,
   "id": "cf31a3a1",
   "metadata": {},
   "outputs": [],
   "source": [
    "# separando dados de treino e teste\n",
    "train_df = df_new[:-10]\n",
    "test_df = df_new[-10:]\n",
    "\n",
    "# normalizando os dados\n",
    "from sklearn.preprocessing import MinMaxScaler\n",
    "scaler = MinMaxScaler()\n",
    "X_train = scaler.fit_transform(train_df.iloc[:, :-1].values)\n",
    "y_train = train_df.iloc[:, -1].values\n",
    "X_test = scaler.transform(test_df.iloc[:, :-1].values)\n",
    "y_test = test_df.iloc[:, -1].values"
   ]
  },
  {
   "cell_type": "code",
   "execution_count": 80,
   "id": "a1f53d6f",
   "metadata": {},
   "outputs": [],
   "source": [
    "# Normalizando os dados\n",
    "scaler = StandardScaler()\n",
    "X_train = scaler.fit_transform(X_train)\n",
    "X_test = scaler.transform(X_test)\n"
   ]
  },
  {
   "cell_type": "markdown",
   "id": "3a820722",
   "metadata": {},
   "source": [
    "## Utilizando modelo de SVM ##"
   ]
  },
  {
   "cell_type": "code",
   "execution_count": 81,
   "id": "2e4e6dd7",
   "metadata": {},
   "outputs": [],
   "source": [
    "# Criando o modelo SVM\n",
    "svm_model = svm.SVC(kernel='rbf')"
   ]
  },
  {
   "cell_type": "code",
   "execution_count": 82,
   "id": "d35683e4",
   "metadata": {},
   "outputs": [
    {
     "data": {
      "text/html": [
       "<style>#sk-container-id-9 {color: black;background-color: white;}#sk-container-id-9 pre{padding: 0;}#sk-container-id-9 div.sk-toggleable {background-color: white;}#sk-container-id-9 label.sk-toggleable__label {cursor: pointer;display: block;width: 100%;margin-bottom: 0;padding: 0.3em;box-sizing: border-box;text-align: center;}#sk-container-id-9 label.sk-toggleable__label-arrow:before {content: \"▸\";float: left;margin-right: 0.25em;color: #696969;}#sk-container-id-9 label.sk-toggleable__label-arrow:hover:before {color: black;}#sk-container-id-9 div.sk-estimator:hover label.sk-toggleable__label-arrow:before {color: black;}#sk-container-id-9 div.sk-toggleable__content {max-height: 0;max-width: 0;overflow: hidden;text-align: left;background-color: #f0f8ff;}#sk-container-id-9 div.sk-toggleable__content pre {margin: 0.2em;color: black;border-radius: 0.25em;background-color: #f0f8ff;}#sk-container-id-9 input.sk-toggleable__control:checked~div.sk-toggleable__content {max-height: 200px;max-width: 100%;overflow: auto;}#sk-container-id-9 input.sk-toggleable__control:checked~label.sk-toggleable__label-arrow:before {content: \"▾\";}#sk-container-id-9 div.sk-estimator input.sk-toggleable__control:checked~label.sk-toggleable__label {background-color: #d4ebff;}#sk-container-id-9 div.sk-label input.sk-toggleable__control:checked~label.sk-toggleable__label {background-color: #d4ebff;}#sk-container-id-9 input.sk-hidden--visually {border: 0;clip: rect(1px 1px 1px 1px);clip: rect(1px, 1px, 1px, 1px);height: 1px;margin: -1px;overflow: hidden;padding: 0;position: absolute;width: 1px;}#sk-container-id-9 div.sk-estimator {font-family: monospace;background-color: #f0f8ff;border: 1px dotted black;border-radius: 0.25em;box-sizing: border-box;margin-bottom: 0.5em;}#sk-container-id-9 div.sk-estimator:hover {background-color: #d4ebff;}#sk-container-id-9 div.sk-parallel-item::after {content: \"\";width: 100%;border-bottom: 1px solid gray;flex-grow: 1;}#sk-container-id-9 div.sk-label:hover label.sk-toggleable__label {background-color: #d4ebff;}#sk-container-id-9 div.sk-serial::before {content: \"\";position: absolute;border-left: 1px solid gray;box-sizing: border-box;top: 0;bottom: 0;left: 50%;z-index: 0;}#sk-container-id-9 div.sk-serial {display: flex;flex-direction: column;align-items: center;background-color: white;padding-right: 0.2em;padding-left: 0.2em;position: relative;}#sk-container-id-9 div.sk-item {position: relative;z-index: 1;}#sk-container-id-9 div.sk-parallel {display: flex;align-items: stretch;justify-content: center;background-color: white;position: relative;}#sk-container-id-9 div.sk-item::before, #sk-container-id-9 div.sk-parallel-item::before {content: \"\";position: absolute;border-left: 1px solid gray;box-sizing: border-box;top: 0;bottom: 0;left: 50%;z-index: -1;}#sk-container-id-9 div.sk-parallel-item {display: flex;flex-direction: column;z-index: 1;position: relative;background-color: white;}#sk-container-id-9 div.sk-parallel-item:first-child::after {align-self: flex-end;width: 50%;}#sk-container-id-9 div.sk-parallel-item:last-child::after {align-self: flex-start;width: 50%;}#sk-container-id-9 div.sk-parallel-item:only-child::after {width: 0;}#sk-container-id-9 div.sk-dashed-wrapped {border: 1px dashed gray;margin: 0 0.4em 0.5em 0.4em;box-sizing: border-box;padding-bottom: 0.4em;background-color: white;}#sk-container-id-9 div.sk-label label {font-family: monospace;font-weight: bold;display: inline-block;line-height: 1.2em;}#sk-container-id-9 div.sk-label-container {text-align: center;}#sk-container-id-9 div.sk-container {/* jupyter's `normalize.less` sets `[hidden] { display: none; }` but bootstrap.min.css set `[hidden] { display: none !important; }` so we also need the `!important` here to be able to override the default hidden behavior on the sphinx rendered scikit-learn.org. See: https://github.com/scikit-learn/scikit-learn/issues/21755 */display: inline-block !important;position: relative;}#sk-container-id-9 div.sk-text-repr-fallback {display: none;}</style><div id=\"sk-container-id-9\" class=\"sk-top-container\"><div class=\"sk-text-repr-fallback\"><pre>SVC()</pre><b>In a Jupyter environment, please rerun this cell to show the HTML representation or trust the notebook. <br />On GitHub, the HTML representation is unable to render, please try loading this page with nbviewer.org.</b></div><div class=\"sk-container\" hidden><div class=\"sk-item\"><div class=\"sk-estimator sk-toggleable\"><input class=\"sk-toggleable__control sk-hidden--visually\" id=\"sk-estimator-id-9\" type=\"checkbox\" checked><label for=\"sk-estimator-id-9\" class=\"sk-toggleable__label sk-toggleable__label-arrow\">SVC</label><div class=\"sk-toggleable__content\"><pre>SVC()</pre></div></div></div></div></div>"
      ],
      "text/plain": [
       "SVC()"
      ]
     },
     "execution_count": 82,
     "metadata": {},
     "output_type": "execute_result"
    }
   ],
   "source": [
    "# Treinando o modelo SVM\n",
    "svm_model.fit(X_train, y_train)"
   ]
  },
  {
   "cell_type": "code",
   "execution_count": 83,
   "id": "96c541a9",
   "metadata": {},
   "outputs": [
    {
     "name": "stdout",
     "output_type": "stream",
     "text": [
      "Acurácia do modelo SVM: 40.00%\n"
     ]
    }
   ],
   "source": [
    "# Avaliando a precisão do modelo no conjunto de teste\n",
    "accuracy = svm_model.score(X_test, y_test)\n",
    "print(\"Acurácia do modelo SVM: {:.2f}%\".format(accuracy * 100))"
   ]
  },
  {
   "cell_type": "code",
   "execution_count": null,
   "id": "02132351",
   "metadata": {},
   "outputs": [],
   "source": []
  },
  {
   "cell_type": "code",
   "execution_count": null,
   "id": "ae032e2c",
   "metadata": {},
   "outputs": [],
   "source": []
  },
  {
   "cell_type": "markdown",
   "id": "eea4ca4c",
   "metadata": {},
   "source": [
    "## Utilizando modelo de KNN ##"
   ]
  },
  {
   "cell_type": "code",
   "execution_count": 34,
   "id": "7d57f89b",
   "metadata": {},
   "outputs": [],
   "source": [
    "# Criar instância do modelo com k=5\n",
    "knn_model = KNeighborsClassifier(n_neighbors=5)"
   ]
  },
  {
   "cell_type": "code",
   "execution_count": 36,
   "id": "0371c0a3",
   "metadata": {},
   "outputs": [
    {
     "data": {
      "text/html": [
       "<style>#sk-container-id-5 {color: black;background-color: white;}#sk-container-id-5 pre{padding: 0;}#sk-container-id-5 div.sk-toggleable {background-color: white;}#sk-container-id-5 label.sk-toggleable__label {cursor: pointer;display: block;width: 100%;margin-bottom: 0;padding: 0.3em;box-sizing: border-box;text-align: center;}#sk-container-id-5 label.sk-toggleable__label-arrow:before {content: \"▸\";float: left;margin-right: 0.25em;color: #696969;}#sk-container-id-5 label.sk-toggleable__label-arrow:hover:before {color: black;}#sk-container-id-5 div.sk-estimator:hover label.sk-toggleable__label-arrow:before {color: black;}#sk-container-id-5 div.sk-toggleable__content {max-height: 0;max-width: 0;overflow: hidden;text-align: left;background-color: #f0f8ff;}#sk-container-id-5 div.sk-toggleable__content pre {margin: 0.2em;color: black;border-radius: 0.25em;background-color: #f0f8ff;}#sk-container-id-5 input.sk-toggleable__control:checked~div.sk-toggleable__content {max-height: 200px;max-width: 100%;overflow: auto;}#sk-container-id-5 input.sk-toggleable__control:checked~label.sk-toggleable__label-arrow:before {content: \"▾\";}#sk-container-id-5 div.sk-estimator input.sk-toggleable__control:checked~label.sk-toggleable__label {background-color: #d4ebff;}#sk-container-id-5 div.sk-label input.sk-toggleable__control:checked~label.sk-toggleable__label {background-color: #d4ebff;}#sk-container-id-5 input.sk-hidden--visually {border: 0;clip: rect(1px 1px 1px 1px);clip: rect(1px, 1px, 1px, 1px);height: 1px;margin: -1px;overflow: hidden;padding: 0;position: absolute;width: 1px;}#sk-container-id-5 div.sk-estimator {font-family: monospace;background-color: #f0f8ff;border: 1px dotted black;border-radius: 0.25em;box-sizing: border-box;margin-bottom: 0.5em;}#sk-container-id-5 div.sk-estimator:hover {background-color: #d4ebff;}#sk-container-id-5 div.sk-parallel-item::after {content: \"\";width: 100%;border-bottom: 1px solid gray;flex-grow: 1;}#sk-container-id-5 div.sk-label:hover label.sk-toggleable__label {background-color: #d4ebff;}#sk-container-id-5 div.sk-serial::before {content: \"\";position: absolute;border-left: 1px solid gray;box-sizing: border-box;top: 0;bottom: 0;left: 50%;z-index: 0;}#sk-container-id-5 div.sk-serial {display: flex;flex-direction: column;align-items: center;background-color: white;padding-right: 0.2em;padding-left: 0.2em;position: relative;}#sk-container-id-5 div.sk-item {position: relative;z-index: 1;}#sk-container-id-5 div.sk-parallel {display: flex;align-items: stretch;justify-content: center;background-color: white;position: relative;}#sk-container-id-5 div.sk-item::before, #sk-container-id-5 div.sk-parallel-item::before {content: \"\";position: absolute;border-left: 1px solid gray;box-sizing: border-box;top: 0;bottom: 0;left: 50%;z-index: -1;}#sk-container-id-5 div.sk-parallel-item {display: flex;flex-direction: column;z-index: 1;position: relative;background-color: white;}#sk-container-id-5 div.sk-parallel-item:first-child::after {align-self: flex-end;width: 50%;}#sk-container-id-5 div.sk-parallel-item:last-child::after {align-self: flex-start;width: 50%;}#sk-container-id-5 div.sk-parallel-item:only-child::after {width: 0;}#sk-container-id-5 div.sk-dashed-wrapped {border: 1px dashed gray;margin: 0 0.4em 0.5em 0.4em;box-sizing: border-box;padding-bottom: 0.4em;background-color: white;}#sk-container-id-5 div.sk-label label {font-family: monospace;font-weight: bold;display: inline-block;line-height: 1.2em;}#sk-container-id-5 div.sk-label-container {text-align: center;}#sk-container-id-5 div.sk-container {/* jupyter's `normalize.less` sets `[hidden] { display: none; }` but bootstrap.min.css set `[hidden] { display: none !important; }` so we also need the `!important` here to be able to override the default hidden behavior on the sphinx rendered scikit-learn.org. See: https://github.com/scikit-learn/scikit-learn/issues/21755 */display: inline-block !important;position: relative;}#sk-container-id-5 div.sk-text-repr-fallback {display: none;}</style><div id=\"sk-container-id-5\" class=\"sk-top-container\"><div class=\"sk-text-repr-fallback\"><pre>KNeighborsClassifier()</pre><b>In a Jupyter environment, please rerun this cell to show the HTML representation or trust the notebook. <br />On GitHub, the HTML representation is unable to render, please try loading this page with nbviewer.org.</b></div><div class=\"sk-container\" hidden><div class=\"sk-item\"><div class=\"sk-estimator sk-toggleable\"><input class=\"sk-toggleable__control sk-hidden--visually\" id=\"sk-estimator-id-5\" type=\"checkbox\" checked><label for=\"sk-estimator-id-5\" class=\"sk-toggleable__label sk-toggleable__label-arrow\">KNeighborsClassifier</label><div class=\"sk-toggleable__content\"><pre>KNeighborsClassifier()</pre></div></div></div></div></div>"
      ],
      "text/plain": [
       "KNeighborsClassifier()"
      ]
     },
     "execution_count": 36,
     "metadata": {},
     "output_type": "execute_result"
    }
   ],
   "source": [
    "# Treinar modelo com conjunto de treinamento normalizado\n",
    "knn_model.fit(X_train, y_train)"
   ]
  },
  {
   "cell_type": "code",
   "execution_count": 38,
   "id": "af0aadcf",
   "metadata": {},
   "outputs": [],
   "source": [
    "# Obter previsões do modelo para o conjunto de teste\n",
    "y_pred_knn = knn_model.predict(X_test)"
   ]
  },
  {
   "cell_type": "code",
   "execution_count": 39,
   "id": "1d9807fb",
   "metadata": {},
   "outputs": [
    {
     "name": "stdout",
     "output_type": "stream",
     "text": [
      "Acurácia do modelo KNN: 52.00%\n"
     ]
    }
   ],
   "source": [
    "# Calcular acurácia do modelo\n",
    "acc_knn = accuracy_score(y_test, y_pred_knn)\n",
    "print(\"Acurácia do modelo KNN: {:.2f}%\".format(acc_knn*100))"
   ]
  },
  {
   "cell_type": "code",
   "execution_count": null,
   "id": "b7e7ec66",
   "metadata": {},
   "outputs": [],
   "source": []
  },
  {
   "cell_type": "markdown",
   "id": "688e48e1",
   "metadata": {},
   "source": [
    "## Utilizando modelo de Random Forest ##"
   ]
  },
  {
   "cell_type": "code",
   "execution_count": 48,
   "id": "f64e2f17",
   "metadata": {},
   "outputs": [
    {
     "name": "stdout",
     "output_type": "stream",
     "text": [
      "Acurácia do modelo Random Forest: 58.00%\n"
     ]
    }
   ],
   "source": [
    "# Criando modelo com 200 arvores de decisão\n",
    "rf_model = RandomForestClassifier(n_estimators=200)\n",
    "\n",
    "# Treinando modelo\n",
    "rf_model.fit(X_train, y_train)\n",
    "\n",
    "# Avaliando acurácia\n",
    "rf_acc = rf_model.score(X_test, y_test)\n",
    "print(f\"Acurácia do modelo Random Forest: {rf_acc:.2%}\")\n"
   ]
  },
  {
   "cell_type": "code",
   "execution_count": null,
   "id": "d20d12e1",
   "metadata": {},
   "outputs": [],
   "source": []
  },
  {
   "cell_type": "code",
   "execution_count": null,
   "id": "9161b137",
   "metadata": {},
   "outputs": [],
   "source": []
  },
  {
   "cell_type": "code",
   "execution_count": 52,
   "id": "5001e650",
   "metadata": {},
   "outputs": [
    {
     "name": "stdout",
     "output_type": "stream",
     "text": [
      "Acurácia: 0.32\n"
     ]
    }
   ],
   "source": [
    "# Criando o modelo\n",
    "dt_model = DecisionTreeClassifier()\n",
    "\n",
    "# Treinando o modelo\n",
    "dt_model.fit(X_train, y_train)\n",
    "\n",
    "# Realizando a previsão\n",
    "y_pred = dt_model.predict(X_test)\n",
    "\n",
    "# Verificando a acurácia\n",
    "accuracy = accuracy_score(y_test, y_pred)\n",
    "print('Acurácia:', accuracy)"
   ]
  },
  {
   "cell_type": "code",
   "execution_count": null,
   "id": "245a441d",
   "metadata": {},
   "outputs": [],
   "source": []
  },
  {
   "cell_type": "code",
   "execution_count": null,
   "id": "db331c8a",
   "metadata": {},
   "outputs": [],
   "source": []
  },
  {
   "cell_type": "code",
   "execution_count": null,
   "id": "f3a582a7",
   "metadata": {},
   "outputs": [],
   "source": []
  }
 ],
 "metadata": {
  "kernelspec": {
   "display_name": "Python 3 (ipykernel)",
   "language": "python",
   "name": "python3"
  },
  "language_info": {
   "codemirror_mode": {
    "name": "ipython",
    "version": 3
   },
   "file_extension": ".py",
   "mimetype": "text/x-python",
   "name": "python",
   "nbconvert_exporter": "python",
   "pygments_lexer": "ipython3",
   "version": "3.9.7"
  }
 },
 "nbformat": 4,
 "nbformat_minor": 5
}
